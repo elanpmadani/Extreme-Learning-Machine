{
 "cells": [
  {
   "cell_type": "markdown",
   "metadata": {},
   "source": [
    "## Extreme Learning Machine"
   ]
  },
  {
   "cell_type": "code",
   "execution_count": 1,
   "metadata": {},
   "outputs": [],
   "source": [
    "import numpy as np"
   ]
  },
  {
   "cell_type": "code",
   "execution_count": 2,
   "metadata": {},
   "outputs": [],
   "source": [
    "import math"
   ]
  },
  {
   "cell_type": "code",
   "execution_count": 3,
   "metadata": {},
   "outputs": [],
   "source": [
    "from csv import reader\n",
    "file = open('data 1.csv')\n",
    "data = reader(file,delimiter=\";\")\n",
    "data = list(data)"
   ]
  },
  {
   "cell_type": "code",
   "execution_count": 4,
   "metadata": {},
   "outputs": [],
   "source": [
    "def exploredata(start,end,data):\n",
    "    for baris in data[start:end]:\n",
    "        print(baris)\n",
    "    print(\"jumlah data :\" ,len(data))\n",
    "    print(\"jumlah kolom :\" ,len(data[0]))   "
   ]
  },
  {
   "cell_type": "code",
   "execution_count": 5,
   "metadata": {},
   "outputs": [
    {
     "name": "stdout",
     "output_type": "stream",
     "text": [
      "['586.091.416', '0.0668833', '0.45086673', '0.96311105', '172.733.556', '0.00447338', '1.262.138.007', '0.05401571', '0.32870513', '0.92058887', '172.733.556', '0.00447338', '3']\n",
      "['553.590.858', '0.06725974', '0.45718758', '0.96668892', '168.369.008', '0.00452387', '1.195.002.293', '0.054619', '0.33672919', '0.92811089', '168.369.008', '0.00452387', '3']\n",
      "['568.830.546', '0.06688525', '0.45580701', '0.96595108', '170.128.205', '0.00447364', '1.253.002.763', '0.05435134', '0.33490956', '0.92500305', '170.128.205', '0.00447364', '3']\n",
      "['405.995.541', '0.07792213', '0.50627049', '0.97394237', '14.154.961', '0.00607186', '929.333.005', '0.06380138', '0.3823362', '0.94041554', '14.154.961', '0.00607186', '3']\n",
      "['954.195.095', '0.05902701', '0.4043442', '0.95852679', '211.956.522', '0.00348419', '1.885.654.523', '0.04818549', '0.29499519', '0.91812373', '211.956.522', '0.00348419', '3']\n",
      "jumlah data : 14\n",
      "jumlah kolom : 13\n"
     ]
    }
   ],
   "source": [
    "# data[1:] dikarenakan data[0] merupakan header dari data tersebut\n",
    "exploredata(0,5,data[41:55])"
   ]
  },
  {
   "cell_type": "code",
   "execution_count": 6,
   "metadata": {},
   "outputs": [],
   "source": [
    "for row in data:\n",
    "    row[0] = row[0].replace(\".\",\"\")\n",
    "    row[4] = row[4].replace(\".\",\"\")\n",
    "    row[6] = row[6].replace(\".\",\"\")\n",
    "    row[10] = row[10].replace(\".\",\"\")"
   ]
  },
  {
   "cell_type": "code",
   "execution_count": 7,
   "metadata": {},
   "outputs": [],
   "source": [
    "def extractFitur(data):\n",
    "    fitur = [x[:-1] for x in data]\n",
    "    fitur  = np.asarray(fitur,dtype=float)\n",
    "    return fitur"
   ]
  },
  {
   "cell_type": "code",
   "execution_count": 8,
   "metadata": {},
   "outputs": [],
   "source": [
    "def extractTarget(data):\n",
    "    target = [x[-1] for x in data]\n",
    "    return target"
   ]
  },
  {
   "cell_type": "code",
   "execution_count": 9,
   "metadata": {},
   "outputs": [],
   "source": [
    "def normalize(fitur):\n",
    "    normalize=[]\n",
    "    minz = np.min(fitur, axis=0)\n",
    "    maxz = np.max(fitur, axis=0)\n",
    "    for x in fitur:\n",
    "        keren = (x-minz)/(maxz-minz)\n",
    "        normalize.append(keren)\n",
    "    return normalize"
   ]
  },
  {
   "cell_type": "code",
   "execution_count": 10,
   "metadata": {},
   "outputs": [],
   "source": [
    "def MatriksHinit(fitur,weight):\n",
    "    weight_t = weight.T\n",
    "    h_init = np.dot(fitur,weight_t)\n",
    "    return h_init"
   ]
  },
  {
   "cell_type": "code",
   "execution_count": 11,
   "metadata": {},
   "outputs": [],
   "source": [
    "def SigmoidBiner(y):\n",
    "    matriks = []\n",
    "    for x in y[0:]:\n",
    "        aktivasi = 1/(1+np.exp(-x))\n",
    "        matriks.append(aktivasi)\n",
    "    h = np.asarray(matriks,dtype=float)\n",
    "    return h"
   ]
  },
  {
   "cell_type": "code",
   "execution_count": 12,
   "metadata": {},
   "outputs": [],
   "source": [
    "def fungsilinier(y):\n",
    "    matriks = []\n",
    "    for x in y[0:]:\n",
    "        aktivasi = x\n",
    "        matriks.append(aktivasi)\n",
    "    h = np.asarray(matriks,dtype=float)\n",
    "    return h"
   ]
  },
  {
   "cell_type": "code",
   "execution_count": 13,
   "metadata": {},
   "outputs": [],
   "source": [
    "def sigmoidbipolar(y):\n",
    "    matriks = []\n",
    "    for x in y[0:]:\n",
    "        aktivasi = ((1-np.exp(-x))/(1+np.exp(-x)))\n",
    "        matriks.append(aktivasi)\n",
    "    h = np.asarray(matriks,dtype=float)\n",
    "    return h"
   ]
  },
  {
   "cell_type": "code",
   "execution_count": 14,
   "metadata": {},
   "outputs": [],
   "source": [
    "def sigmoidradialbasis(y):\n",
    "    matriks = []\n",
    "    for x in y[0:]:\n",
    "        aktivasi = np.exp(-(x**2))\n",
    "        matriks.append(aktivasi)\n",
    "        h = np.asarray(matriks,dtype=float)\n",
    "    return h"
   ]
  },
  {
   "cell_type": "code",
   "execution_count": 15,
   "metadata": {},
   "outputs": [],
   "source": [
    "def matrikshplus(y):\n",
    "    y_transpose = y.T\n",
    "    perkalian = np.dot(y_transpose,y)\n",
    "    inverse = np.linalg.inv(perkalian)\n",
    "    hplus = np.dot(inverse,y_transpose)\n",
    "    return hplus"
   ]
  },
  {
   "cell_type": "code",
   "execution_count": 16,
   "metadata": {},
   "outputs": [],
   "source": [
    "fitur = extractFitur(data[1:])\n",
    "target = extractTarget(data[1:])\n",
    "fitur = normalize(fitur)"
   ]
  },
  {
   "cell_type": "markdown",
   "metadata": {},
   "source": [
    "# Pengujian Berdasarkan Rasio Data Latih dan Data Uji"
   ]
  },
  {
   "cell_type": "markdown",
   "metadata": {},
   "source": [
    "### Data Latih : Data Uji 70:30"
   ]
  },
  {
   "cell_type": "code",
   "execution_count": 17,
   "metadata": {},
   "outputs": [
    {
     "name": "stdout",
     "output_type": "stream",
     "text": [
      "42\n"
     ]
    }
   ],
   "source": [
    "datatraining = fitur[0:10]\n",
    "datatraining.extend(fitur[10:20])\n",
    "datatraining.extend(fitur[20:24])\n",
    "datatraining.extend(fitur[30:34])\n",
    "datatraining.extend(fitur[40:54])\n",
    "targettrain = target[0:10]\n",
    "targettrain.extend(target[10:20])\n",
    "targettrain.extend(target[20:24])\n",
    "targettrain.extend(target[30:34])\n",
    "targettrain.extend(target[40:54])\n",
    "targettrain  = np.asarray(targettrain,dtype=float)\n",
    "print(len(datatraining))"
   ]
  },
  {
   "cell_type": "code",
   "execution_count": 18,
   "metadata": {},
   "outputs": [
    {
     "name": "stdout",
     "output_type": "stream",
     "text": [
      "18\n"
     ]
    }
   ],
   "source": [
    "datatesting = fitur[24:30]\n",
    "datatesting.extend(fitur[34:40])\n",
    "datatesting.extend(fitur[54:60])\n",
    "targettest = target[24:30]\n",
    "targettest.extend(target[34:40])\n",
    "targettest.extend(target[54:60])\n",
    "targettest  = np.asarray(targettest,dtype=float)\n",
    "print(len(datatesting))"
   ]
  },
  {
   "cell_type": "code",
   "execution_count": 19,
   "metadata": {},
   "outputs": [
    {
     "name": "stdout",
     "output_type": "stream",
     "text": [
      "weight \n",
      " [[-0.96679837 -0.56691479 -0.99709835 -0.46686085 -0.270499    0.08664495\n",
      "  -0.03301548  0.41532664  0.75242603 -0.65012204  0.59926752 -0.89635113]]\n"
     ]
    }
   ],
   "source": [
    "weight = [[-0.96679837,-0.56691479,-0.99709835,-0.46686085,-0.270499,0.08664495,-0.03301548,0.41532664,0.75242603,-0.65012204,0.59926752,-0.89635113]]\n",
    "#np.random.uniform(-1,1,(1,12))\n",
    "weight = np.asarray(weight,dtype=float)\n",
    "print(\"weight \\n\",weight)"
   ]
  },
  {
   "cell_type": "markdown",
   "metadata": {},
   "source": [
    "##### Fungsi Aktivasi Dengan Sigmoid Biner"
   ]
  },
  {
   "cell_type": "code",
   "execution_count": 20,
   "metadata": {},
   "outputs": [
    {
     "data": {
      "text/plain": [
       "array([8.06550341])"
      ]
     },
     "execution_count": 20,
     "metadata": {},
     "output_type": "execute_result"
    }
   ],
   "source": [
    "matrikshinit = MatriksHinit(datatraining,weight)\n",
    "matriksh = SigmoidBiner(matrikshinit)\n",
    "hplus = matrikshplus(matriksh)\n",
    "betatopisigmoidbiner = np.dot(hplus,targettrain)\n",
    "betatopisigmoidbiner"
   ]
  },
  {
   "cell_type": "code",
   "execution_count": 21,
   "metadata": {
    "scrolled": true
   },
   "outputs": [
    {
     "name": "stdout",
     "output_type": "stream",
     "text": [
      "[1.45859015 1.48155751 1.4702738  1.30895756 1.37004571 1.58919459\n",
      " 1.2087001  1.38173769 1.32935619 1.3573914  0.82191427 1.45970044\n",
      " 3.24564916 1.96621851 2.00004228 2.05846201 2.26701744 1.82456147]\n",
      "[2. 2. 2. 2. 2. 2. 1. 1. 1. 1. 1. 1. 3. 3. 3. 3. 3. 3.]\n",
      "Mape =  29.363579838805567\n"
     ]
    }
   ],
   "source": [
    "matrikshinit = MatriksHinit(datatesting,weight)\n",
    "matriksh = SigmoidBiner(matrikshinit)\n",
    "yprediksisigmoidbiner = np.dot(matriksh,betatopisigmoidbiner)\n",
    "print(yprediksisigmoidbiner)\n",
    "Mape = 0\n",
    "for x,y in zip(yprediksisigmoidbiner,targettest):\n",
    "    Mape = Mape + abs(((x-y)/y)*100)\n",
    "print(targettest)\n",
    "print(\"Mape = \",Mape/len(targettest))"
   ]
  },
  {
   "cell_type": "markdown",
   "metadata": {},
   "source": [
    "### Data Latih : Data Uji 60:40"
   ]
  },
  {
   "cell_type": "code",
   "execution_count": 22,
   "metadata": {},
   "outputs": [
    {
     "name": "stdout",
     "output_type": "stream",
     "text": [
      "36\n"
     ]
    }
   ],
   "source": [
    "datatraining = fitur[0:10]\n",
    "datatraining.extend(fitur[10:20])\n",
    "datatraining.extend(fitur[20:22])\n",
    "datatraining.extend(fitur[30:32])\n",
    "datatraining.extend(fitur[40:52])\n",
    "targettrain = target[0:10]\n",
    "targettrain.extend(target[10:20])\n",
    "targettrain.extend(target[20:22])\n",
    "targettrain.extend(target[30:32])\n",
    "targettrain.extend(target[40:52])\n",
    "targettrain  = np.asarray(targettrain,dtype=float)\n",
    "print(len(datatraining))"
   ]
  },
  {
   "cell_type": "code",
   "execution_count": 23,
   "metadata": {},
   "outputs": [
    {
     "name": "stdout",
     "output_type": "stream",
     "text": [
      "24\n"
     ]
    }
   ],
   "source": [
    "datatesting = fitur[22:30]\n",
    "datatesting.extend(fitur[32:40])\n",
    "datatesting.extend(fitur[52:60])\n",
    "targettest = target[22:30]\n",
    "targettest.extend(target[32:40])\n",
    "targettest.extend(target[52:60])\n",
    "targettest  = np.asarray(targettest,dtype=float)\n",
    "print(len(datatesting))"
   ]
  },
  {
   "cell_type": "markdown",
   "metadata": {},
   "source": [
    "##### Fungsi Aktivasi Dengan Sigmoid Biner"
   ]
  },
  {
   "cell_type": "code",
   "execution_count": 24,
   "metadata": {},
   "outputs": [
    {
     "data": {
      "text/plain": [
       "array([7.8636333])"
      ]
     },
     "execution_count": 24,
     "metadata": {},
     "output_type": "execute_result"
    }
   ],
   "source": [
    "matrikshinit = MatriksHinit(datatraining,weight)\n",
    "matriksh = SigmoidBiner(matrikshinit)\n",
    "hplus = matrikshplus(matriksh)\n",
    "betatopisigmoidbiner = np.dot(hplus,targettrain)\n",
    "betatopisigmoidbiner"
   ]
  },
  {
   "cell_type": "code",
   "execution_count": 25,
   "metadata": {},
   "outputs": [
    {
     "name": "stdout",
     "output_type": "stream",
     "text": [
      "[1.5879081  1.64295355 1.42208334 1.44447585 1.43347457 1.27619588\n",
      " 1.33575507 1.54941891 1.36700948 1.1950547  1.17844775 1.34715441\n",
      " 1.29608396 1.32341748 0.80134272 1.42316584 2.44008917 2.15198759\n",
      " 3.16441436 1.91700637 1.94998356 2.00694112 2.21027665 1.77889483]\n",
      "[2. 2. 2. 2. 2. 2. 2. 2. 1. 1. 1. 1. 1. 1. 1. 1. 3. 3. 3. 3. 3. 3. 3. 3.]\n",
      "Mape =  27.996958182111314\n"
     ]
    }
   ],
   "source": [
    "matrikshinit = MatriksHinit(datatesting,weight)\n",
    "matriksh = SigmoidBiner(matrikshinit)\n",
    "yprediksisigmoidbiner = np.dot(matriksh,betatopisigmoidbiner)\n",
    "print(yprediksisigmoidbiner)\n",
    "Mape = 0\n",
    "for x,y in zip(yprediksisigmoidbiner,targettest):\n",
    "    Mape = Mape + abs(((x-y)/y)*100)\n",
    "print(targettest)\n",
    "print(\"Mape = \",Mape/len(targettest))"
   ]
  },
  {
   "cell_type": "markdown",
   "metadata": {},
   "source": [
    "# Pengujian Berdasarkan Fungsi Aktivasi"
   ]
  },
  {
   "cell_type": "markdown",
   "metadata": {},
   "source": [
    "### Fungsi Aktivasi Dengan Sigmoid Biner"
   ]
  },
  {
   "cell_type": "code",
   "execution_count": 26,
   "metadata": {},
   "outputs": [
    {
     "data": {
      "text/plain": [
       "array([7.8636333])"
      ]
     },
     "execution_count": 26,
     "metadata": {},
     "output_type": "execute_result"
    }
   ],
   "source": [
    "matrikshinit = MatriksHinit(datatraining,weight)\n",
    "matriksh = SigmoidBiner(matrikshinit)\n",
    "hplus = matrikshplus(matriksh)\n",
    "betatopisigmoidbiner = np.dot(hplus,targettrain)\n",
    "betatopisigmoidbiner"
   ]
  },
  {
   "cell_type": "code",
   "execution_count": 27,
   "metadata": {},
   "outputs": [
    {
     "name": "stdout",
     "output_type": "stream",
     "text": [
      "[1.5879081  1.64295355 1.42208334 1.44447585 1.43347457 1.27619588\n",
      " 1.33575507 1.54941891 1.36700948 1.1950547  1.17844775 1.34715441\n",
      " 1.29608396 1.32341748 0.80134272 1.42316584 2.44008917 2.15198759\n",
      " 3.16441436 1.91700637 1.94998356 2.00694112 2.21027665 1.77889483]\n",
      "[2. 2. 2. 2. 2. 2. 2. 2. 1. 1. 1. 1. 1. 1. 1. 1. 3. 3. 3. 3. 3. 3. 3. 3.]\n",
      "Mape =  27.996958182111314\n"
     ]
    }
   ],
   "source": [
    "matrikshinit = MatriksHinit(datatesting,weight)\n",
    "matriksh = SigmoidBiner(matrikshinit)\n",
    "yprediksisigmoidbiner = np.dot(matriksh,betatopisigmoidbiner)\n",
    "print(yprediksisigmoidbiner)\n",
    "Mape = 0\n",
    "for x,y in zip(yprediksisigmoidbiner,targettest):\n",
    "    Mape = Mape + abs(((x-y)/y)*100)\n",
    "print(targettest)\n",
    "print(\"Mape = \",Mape/len(targettest))"
   ]
  },
  {
   "cell_type": "markdown",
   "metadata": {},
   "source": [
    "### Fungsi Aktivasi Dengan Fungsi Linier"
   ]
  },
  {
   "cell_type": "code",
   "execution_count": 28,
   "metadata": {},
   "outputs": [
    {
     "data": {
      "text/plain": [
       "array([-1.6069349])"
      ]
     },
     "execution_count": 28,
     "metadata": {},
     "output_type": "execute_result"
    }
   ],
   "source": [
    "matrikshinit = MatriksHinit(datatraining,weight)\n",
    "matriksh = fungsilinier(matrikshinit)\n",
    "hplus = matrikshplus(matriksh)\n",
    "betatopilinier = np.dot(hplus,targettrain)\n",
    "betatopilinier"
   ]
  },
  {
   "cell_type": "code",
   "execution_count": 29,
   "metadata": {},
   "outputs": [
    {
     "name": "stdout",
     "output_type": "stream",
     "text": [
      "[2.20836493 2.1394468  2.42751017 2.39680823 2.41184531 2.63743128\n",
      " 2.54953919 2.25762041 2.50466055 2.76266623 2.78915025 2.53307521\n",
      " 2.60772331 2.56748469 3.49706958 2.42601736 1.28348287 1.56855377\n",
      " 0.63542755 1.81914571 1.78280148 1.72098427 1.50912363 1.9761948 ]\n",
      "[2. 2. 2. 2. 2. 2. 2. 2. 1. 1. 1. 1. 1. 1. 1. 1. 3. 3. 3. 3. 3. 3. 3. 3.]\n",
      "79.59816237552168\n"
     ]
    }
   ],
   "source": [
    "matrikshinit = MatriksHinit(datatesting,weight)\n",
    "matriksh = fungsilinier(matrikshinit)\n",
    "yprediksifungsilinier = np.dot(matriksh,betatopilinier)\n",
    "print(yprediksifungsilinier)\n",
    "Mape = 0\n",
    "for x,y in zip(yprediksifungsilinier,targettest):\n",
    "    Mape = Mape + abs(((x-y)/y)*100)\n",
    "print(targettest)\n",
    "print(Mape/len(targettest))"
   ]
  },
  {
   "cell_type": "markdown",
   "metadata": {},
   "source": [
    "### Fungsi Aktivasi Dengan Fungsi Sigmoid Bipolar"
   ]
  },
  {
   "cell_type": "code",
   "execution_count": 30,
   "metadata": {},
   "outputs": [
    {
     "data": {
      "text/plain": [
       "array([-3.71128582])"
      ]
     },
     "execution_count": 30,
     "metadata": {},
     "output_type": "execute_result"
    }
   ],
   "source": [
    "matrikshinit = MatriksHinit(datatraining,weight)\n",
    "matriksh = sigmoidbipolar(matrikshinit)\n",
    "hplus = matrikshplus(matriksh)\n",
    "betatopisigmoidbipolar = np.dot(hplus,targettrain)\n",
    "betatopisigmoidbipolar"
   ]
  },
  {
   "cell_type": "code",
   "execution_count": 31,
   "metadata": {},
   "outputs": [
    {
     "name": "stdout",
     "output_type": "stream",
     "text": [
      "[2.21244156 2.16048354 2.3689654  2.34782886 2.3582131  2.50667021\n",
      " 2.45045164 2.24877194 2.42095024 2.58326029 2.59893577 2.43969166\n",
      " 2.48789763 2.46209722 2.95488944 2.36794362 1.40805829 1.6800006\n",
      " 0.72435963 1.90180202 1.87067447 1.8169116  1.62498091 2.03216704]\n",
      "[2. 2. 2. 2. 2. 2. 2. 2. 1. 1. 1. 1. 1. 1. 1. 1. 3. 3. 3. 3. 3. 3. 3. 3.]\n",
      "72.03997568382867\n"
     ]
    }
   ],
   "source": [
    "matrikshinit = MatriksHinit(datatesting,weight)\n",
    "matriksh = sigmoidbipolar(matrikshinit)\n",
    "yprediksisigmoidbipolar = np.dot(matriksh,betatopisigmoidbipolar)\n",
    "print(yprediksisigmoidbipolar)\n",
    "Mape = 0\n",
    "for x,y in zip(yprediksisigmoidbipolar,targettest):\n",
    "    Mape = Mape + abs(((x-y)/y)*100)\n",
    "print(targettest)\n",
    "print(Mape/len(targettest))"
   ]
  },
  {
   "cell_type": "markdown",
   "metadata": {},
   "source": [
    "### Fungsi Aktivasi Dengan Fungsi Sigmoid Radial Basis"
   ]
  },
  {
   "cell_type": "code",
   "execution_count": 32,
   "metadata": {},
   "outputs": [
    {
     "data": {
      "text/plain": [
       "array([4.90895682])"
      ]
     },
     "execution_count": 32,
     "metadata": {},
     "output_type": "execute_result"
    }
   ],
   "source": [
    "matrikshinit = MatriksHinit(datatraining,weight)\n",
    "matriksh = sigmoidradialbasis(matrikshinit)\n",
    "hplus = matrikshplus(matriksh)\n",
    "betatopisigmoidradialbasis = np.dot(hplus,targettrain)\n",
    "betatopisigmoidradialbasis"
   ]
  },
  {
   "cell_type": "code",
   "execution_count": 33,
   "metadata": {},
   "outputs": [
    {
     "name": "stdout",
     "output_type": "stream",
     "text": [
      "[1.33510323 1.77704379 1.75072042 1.37206113 1.04244241 2.25412819\n",
      " 1.82106224 1.85917038 1.66234917 1.29177779 1.8339042  2.27522487\n",
      " 1.52872073 1.8261141  0.88561054 1.08233898 1.43627801 1.00413607\n",
      " 4.38564268 2.10272415 0.96396162 0.70759484 0.30695974 0.38009794\n",
      " 0.61766531 0.48409426 0.52950385 0.05195089 0.74170425 0.68674421\n",
      " 0.50196806 0.48007925 0.3377652  0.93358761 1.19420855 1.61158896]\n",
      "[2. 2. 2. 2. 2. 2. 2. 2. 1. 1. 1. 1. 1. 1. 1. 1. 3. 3. 3. 3. 3. 3. 3. 3.]\n",
      "47.60157661582648\n"
     ]
    }
   ],
   "source": [
    "matriksh = sigmoidradialbasis(matrikshinit)\n",
    "yprediksiradialbasis = np.dot(matriksh,betatopisigmoidradialbasis)\n",
    "print(yprediksiradialbasis)\n",
    "Mape = 0\n",
    "for x,y in zip(yprediksiradialbasis,targettest):\n",
    "    Mape = Mape + abs(((x-y)/y)*100)\n",
    "print(targettest)\n",
    "print(Mape/len(targettest))"
   ]
  }
 ],
 "metadata": {
  "kernelspec": {
   "display_name": "Python 3",
   "language": "python",
   "name": "python3"
  },
  "language_info": {
   "codemirror_mode": {
    "name": "ipython",
    "version": 3
   },
   "file_extension": ".py",
   "mimetype": "text/x-python",
   "name": "python",
   "nbconvert_exporter": "python",
   "pygments_lexer": "ipython3",
   "version": "3.7.1"
  }
 },
 "nbformat": 4,
 "nbformat_minor": 2
}
